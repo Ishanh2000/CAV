{
 "cells": [
  {
   "cell_type": "code",
   "execution_count": 1,
   "source": [
    "import numpy as np"
   ],
   "outputs": [],
   "metadata": {}
  },
  {
   "cell_type": "code",
   "execution_count": 2,
   "source": [
    "def constructCDG(PDG_list):\r\n",
    "    n = len(PDG_list)\r\n",
    "    CDG = np.zeros((n,n))\r\n",
    "    for PDG in PDG_list:\r\n",
    "        CDG = np.logical_or(CDG,PDG)\r\n",
    "    return CDG"
   ],
   "outputs": [],
   "metadata": {}
  },
  {
   "cell_type": "code",
   "execution_count": 3,
   "source": [
    "##we want individual graphs to be of this form\r\n",
    "\r\n",
    "##N X N graph where if (i,j) is 1 then i is yeilding to j\r\n",
    "\r\n"
   ],
   "outputs": [],
   "metadata": {}
  },
  {
   "cell_type": "code",
   "execution_count": 4,
   "source": [
    "##test case 1\r\n",
    "PDG_0 = np.array([[1,0,0],\r\n",
    "        [0,0,0],\r\n",
    "        [0,0,0]])\r\n",
    "\r\n",
    "PDG_1 = np.array([[1,0,0],\r\n",
    "        [0,0,1],\r\n",
    "        [0,0,0]])\r\n",
    "\r\n",
    "PDG_2 = np.array([[0,0,0],\r\n",
    "        [0,0,1],\r\n",
    "        [0,0,0]])\r\n",
    "\r\n",
    "PDG_list = [PDG_0,PDG_1,PDG_2]\r\n",
    "constructCDG(PDG_list)"
   ],
   "outputs": [
    {
     "output_type": "execute_result",
     "data": {
      "text/plain": [
       "array([[ True, False, False],\n",
       "       [False, False,  True],\n",
       "       [False, False, False]])"
      ]
     },
     "metadata": {},
     "execution_count": 4
    }
   ],
   "metadata": {}
  },
  {
   "cell_type": "code",
   "execution_count": 5,
   "source": [
    "##test case 2\r\n",
    "PDG_0 = np.array([[1,0,0,0],\r\n",
    "        [0,0,0,0],\r\n",
    "        [0,0,0,0],\r\n",
    "        [0,0,0,0]])\r\n",
    "\r\n",
    "PDG_1 = np.array([[1,0,0,0],\r\n",
    "        [0,0,0,0],\r\n",
    "        [0,0,0,0],\r\n",
    "        [0,0,0,0]])\r\n",
    "\r\n",
    "PDG_2 = np.array([[0,0,0,0],\r\n",
    "        [0,0,0,0],\r\n",
    "        [0,0,0,1],\r\n",
    "        [0,0,0,0]])\r\n",
    "\r\n",
    "PDG_3 = np.array([[1,0,0,0],\r\n",
    "        [0,0,0,0],\r\n",
    "        [0,0,0,1],\r\n",
    "        [0,0,0,0]])\r\n",
    "\r\n",
    "PDG_list = [PDG_0,PDG_1,PDG_2, PDG_3]\r\n",
    "constructCDG(PDG_list)"
   ],
   "outputs": [
    {
     "output_type": "execute_result",
     "data": {
      "text/plain": [
       "array([[ True, False, False, False],\n",
       "       [False, False, False, False],\n",
       "       [False, False, False,  True],\n",
       "       [False, False, False, False]])"
      ]
     },
     "metadata": {},
     "execution_count": 5
    }
   ],
   "metadata": {}
  },
  {
   "cell_type": "code",
   "execution_count": 6,
   "source": [
    "##test case 3\r\n",
    "PDG_0 = np.array([[1,0,0,0],\r\n",
    "        [0,0,0,0],\r\n",
    "        [0,0,0,0],\r\n",
    "        [0,0,0,0]])\r\n",
    "\r\n",
    "PDG_1 = np.array([[1,0,0,0],\r\n",
    "        [0,0,1,0],\r\n",
    "        [0,0,0,0],\r\n",
    "        [0,0,0,0]])\r\n",
    "\r\n",
    "PDG_2 = np.array([[0,0,0,0],\r\n",
    "        [0,0,1,0],\r\n",
    "        [0,0,0,1],\r\n",
    "        [0,0,0,0]])\r\n",
    "\r\n",
    "PDG_3 = np.array([[1,0,0,0],\r\n",
    "        [0,0,0,0],\r\n",
    "        [0,0,0,1],\r\n",
    "        [0,0,0,0]])\r\n",
    "\r\n",
    "PDG_list = [PDG_0,PDG_1,PDG_2, PDG_3]\r\n",
    "CDG = constructCDG(PDG_list)"
   ],
   "outputs": [],
   "metadata": {}
  },
  {
   "cell_type": "code",
   "execution_count": 28,
   "source": [
    "def DFS(CDG, visited, parent,start,n):\r\n",
    "    visited[start] = -1\r\n",
    "    cycle = []\r\n",
    "    flag =0\r\n",
    "    for i in range(n):\r\n",
    "        if(CDG[start][i]==True):\r\n",
    "            if(visited[i]==0):\r\n",
    "                parent[i] = start\r\n",
    "                cycle = DFS(CDG, visited, parent, i,n)\r\n",
    "                if(cycle!=[]):\r\n",
    "                    return cycle\r\n",
    "            elif(visited[i]==-1):#cycle detected\r\n",
    "                # print(\"entered here\")\r\n",
    "                # print(start)\r\n",
    "                # print(parent)\r\n",
    "                # print(i)\r\n",
    "                j = start\r\n",
    "                while(parent[j]!=i):\r\n",
    "                    cycle.append(j)\r\n",
    "                    j = parent[j]\r\n",
    "                cycle.append(j)\r\n",
    "                cycle.append(i)\r\n",
    "                return cycle     \r\n",
    "                # cycle = [1,4,6]\r\n",
    "                # return cycle     \r\n",
    "\r\n",
    "    # print(\"tf\")\r\n",
    "    visited[start] = 1\r\n",
    "    return cycle"
   ],
   "outputs": [],
   "metadata": {}
  },
  {
   "cell_type": "code",
   "execution_count": 25,
   "source": [
    "##finding cycles\r\n",
    "##function is expected to find exactly one cycle and return the nodes invovled in the cycle\r\n",
    "def findCycles(CDG):\r\n",
    "    n = CDG.shape[0]\r\n",
    "    visited = np.zeros(n)\r\n",
    "    parent = np.arange(n)\r\n",
    "    for start in range(n):\r\n",
    "        if(visited[start]==0):\r\n",
    "            cycle = DFS(CDG,visited,parent,start,n)\r\n",
    "            print(\"Cyle: \", cycle)\r\n",
    "            if(cycle != []):\r\n",
    "                return cycle\r\n",
    "    return []"
   ],
   "outputs": [],
   "metadata": {}
  },
  {
   "cell_type": "code",
   "execution_count": 19,
   "source": [
    "##test 1\r\n",
    "PDG_0 = np.array([[0,1,0,0],\r\n",
    "        [0,0,0,0],\r\n",
    "        [0,0,0,0],\r\n",
    "        [0,0,0,0]])\r\n",
    "\r\n",
    "PDG_1 = np.array([[0,1,0,0],\r\n",
    "        [0,0,1,0],\r\n",
    "        [0,0,0,0],\r\n",
    "        [1,0,0,0]])\r\n",
    "\r\n",
    "PDG_2 = np.array([[0,0,0,0],\r\n",
    "        [0,0,1,0],\r\n",
    "        [0,0,0,1],\r\n",
    "        [0,0,0,0]])\r\n",
    "\r\n",
    "PDG_3 = np.array([[0,0,0,0],\r\n",
    "        [0,0,0,0],\r\n",
    "        [0,0,0,1],\r\n",
    "        [1,0,0,0]])\r\n",
    "\r\n",
    "PDG_list = [PDG_0,PDG_1,PDG_2, PDG_3]\r\n",
    "CDG = constructCDG(PDG_list)\r\n",
    "print(CDG)\r\n",
    "print(findCycles(CDG))"
   ],
   "outputs": [
    {
     "output_type": "stream",
     "name": "stdout",
     "text": [
      "[[False  True False False]\n",
      " [False False  True False]\n",
      " [False False False  True]\n",
      " [ True False False False]]\n",
      "Cyle:  [3, 2, 1, 0]\n",
      "[3, 2, 1, 0]\n"
     ]
    }
   ],
   "metadata": {}
  },
  {
   "cell_type": "code",
   "execution_count": 21,
   "source": [
    "CDG = np.array([[False,True,False,False,False,False,False],\r\n",
    "                [False,False,True,False,True,False,False],\r\n",
    "                [True,False,False,False,False,True,False],\r\n",
    "                [False,False,False,False,False,False,False],\r\n",
    "                [False,False,False,False,False,False,False],\r\n",
    "                [False,False,False,False,False,True,False],\r\n",
    "                [False,True,False,False,False,False,False]])\r\n",
    "print(CDG)\r\n",
    "print(findCycles(CDG))"
   ],
   "outputs": [
    {
     "output_type": "stream",
     "name": "stdout",
     "text": [
      "[[False  True False False False False False]\n",
      " [False False  True False  True False False]\n",
      " [ True False False False False  True False]\n",
      " [False False False False False False False]\n",
      " [False False False False False False False]\n",
      " [False False False False False  True False]\n",
      " [False  True False False False False False]]\n",
      "Cyle:  [2, 1, 0]\n",
      "[2, 1, 0]\n"
     ]
    }
   ],
   "metadata": {}
  },
  {
   "cell_type": "code",
   "execution_count": 30,
   "source": [
    "CDG = np.array([[False,True,False,True,False,False,False],\r\n",
    "                [False,False,True,False,True,False,False],\r\n",
    "                [False,False,False,False,False,True,False],\r\n",
    "                [False,False,False,False,False,False,False],\r\n",
    "                [False,False,False,False,False,False,False],\r\n",
    "                [False,False,False,False,False,False,True],\r\n",
    "                [False,True,False,False,False,False,False]])\r\n",
    "print(CDG)\r\n",
    "print(findCycles(CDG))"
   ],
   "outputs": [
    {
     "output_type": "stream",
     "name": "stdout",
     "text": [
      "[[False  True False  True False False False]\n",
      " [False False  True False  True False False]\n",
      " [False False False False False  True False]\n",
      " [False False False False False False False]\n",
      " [False False False False False False False]\n",
      " [False False False False False False  True]\n",
      " [False  True False False False False False]]\n",
      "entered here\n",
      "6\n",
      "[0 0 1 3 4 2 5]\n",
      "1\n",
      "Cyle:  [6, 5, 2, 1]\n",
      "[6, 5, 2, 1]\n"
     ]
    }
   ],
   "metadata": {}
  }
 ],
 "metadata": {
  "orig_nbformat": 4,
  "language_info": {
   "name": "python",
   "version": "3.8.8",
   "mimetype": "text/x-python",
   "codemirror_mode": {
    "name": "ipython",
    "version": 3
   },
   "pygments_lexer": "ipython3",
   "nbconvert_exporter": "python",
   "file_extension": ".py"
  },
  "kernelspec": {
   "name": "python3",
   "display_name": "Python 3.8.8 64-bit ('base': conda)"
  },
  "interpreter": {
   "hash": "73e03da126b73bfff3642ec5261d56fa25c444ea595de51041687efaa60dda41"
  }
 },
 "nbformat": 4,
 "nbformat_minor": 2
}