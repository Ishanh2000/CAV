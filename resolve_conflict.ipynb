{
 "cells": [
  {
   "cell_type": "code",
   "execution_count": 2,
   "source": [
    "import numpy as np"
   ],
   "outputs": [],
   "metadata": {}
  },
  {
   "cell_type": "code",
   "execution_count": 3,
   "source": [
    "def constructCDG(PDG_list):\r\n",
    "    n = len(PDG_list)\r\n",
    "    CDG = np.zeros((n,n))\r\n",
    "    for PDG in PDG_list:\r\n",
    "        CDG = np.logical_or(CDG,PDG)\r\n",
    "    return CDG"
   ],
   "outputs": [],
   "metadata": {}
  },
  {
   "cell_type": "code",
   "execution_count": null,
   "source": [
    "##we want individual graphs to be of this form\r\n",
    "\r\n",
    "##N X N graph where if (i,j) is 1 then i is yeilding to j\r\n",
    "\r\n"
   ],
   "outputs": [],
   "metadata": {}
  },
  {
   "cell_type": "code",
   "execution_count": 7,
   "source": [
    "##test case 1\r\n",
    "PDG_0 = np.array([[1,0,0],\r\n",
    "        [0,0,0],\r\n",
    "        [0,0,0]])\r\n",
    "\r\n",
    "PDG_1 = np.array([[1,0,0],\r\n",
    "        [0,0,1],\r\n",
    "        [0,0,0]])\r\n",
    "\r\n",
    "PDG_2 = np.array([[0,0,0],\r\n",
    "        [0,0,1],\r\n",
    "        [0,0,0]])\r\n",
    "\r\n",
    "PDG_list = [PDG_0,PDG_1,PDG_2]\r\n",
    "constructCDG(PDG_list)"
   ],
   "outputs": [
    {
     "output_type": "execute_result",
     "data": {
      "text/plain": [
       "array([[ True, False, False],\n",
       "       [False, False,  True],\n",
       "       [False, False, False]])"
      ]
     },
     "metadata": {},
     "execution_count": 7
    }
   ],
   "metadata": {}
  },
  {
   "cell_type": "code",
   "execution_count": 8,
   "source": [
    "##test case 2\r\n",
    "PDG_0 = np.array([[1,0,0,0],\r\n",
    "        [0,0,0,0],\r\n",
    "        [0,0,0,0],\r\n",
    "        [0,0,0,0]])\r\n",
    "\r\n",
    "PDG_1 = np.array([[1,0,0,0],\r\n",
    "        [0,0,0,0],\r\n",
    "        [0,0,0,0],\r\n",
    "        [0,0,0,0]])\r\n",
    "\r\n",
    "PDG_2 = np.array([[0,0,0,0],\r\n",
    "        [0,0,0,0],\r\n",
    "        [0,0,0,1],\r\n",
    "        [0,0,0,0]])\r\n",
    "\r\n",
    "PDG_3 = np.array([[1,0,0,0],\r\n",
    "        [0,0,0,0],\r\n",
    "        [0,0,0,1],\r\n",
    "        [0,0,0,0]])\r\n",
    "\r\n",
    "PDG_list = [PDG_0,PDG_1,PDG_2, PDG_3]\r\n",
    "constructCDG(PDG_list)"
   ],
   "outputs": [
    {
     "output_type": "execute_result",
     "data": {
      "text/plain": [
       "array([[ True, False, False, False],\n",
       "       [False, False, False, False],\n",
       "       [False, False, False,  True],\n",
       "       [False, False, False, False]])"
      ]
     },
     "metadata": {},
     "execution_count": 8
    }
   ],
   "metadata": {}
  },
  {
   "cell_type": "code",
   "execution_count": 9,
   "source": [
    "##test case 3\r\n",
    "PDG_0 = np.array([[1,0,0,0],\r\n",
    "        [0,0,0,0],\r\n",
    "        [0,0,0,0],\r\n",
    "        [0,0,0,0]])\r\n",
    "\r\n",
    "PDG_1 = np.array([[1,0,0,0],\r\n",
    "        [0,0,1,0],\r\n",
    "        [0,0,0,0],\r\n",
    "        [0,0,0,0]])\r\n",
    "\r\n",
    "PDG_2 = np.array([[0,0,0,0],\r\n",
    "        [0,0,1,0],\r\n",
    "        [0,0,0,1],\r\n",
    "        [0,0,0,0]])\r\n",
    "\r\n",
    "PDG_3 = np.array([[1,0,0,0],\r\n",
    "        [0,0,0,0],\r\n",
    "        [0,0,0,1],\r\n",
    "        [0,0,0,0]])\r\n",
    "\r\n",
    "PDG_list = [PDG_0,PDG_1,PDG_2, PDG_3]\r\n",
    "constructCDG(PDG_list)"
   ],
   "outputs": [
    {
     "output_type": "execute_result",
     "data": {
      "text/plain": [
       "array([[ True, False, False, False],\n",
       "       [False, False,  True, False],\n",
       "       [False, False, False,  True],\n",
       "       [False, False, False, False]])"
      ]
     },
     "metadata": {},
     "execution_count": 9
    }
   ],
   "metadata": {}
  }
 ],
 "metadata": {
  "orig_nbformat": 4,
  "language_info": {
   "name": "python",
   "version": "3.8.8",
   "mimetype": "text/x-python",
   "codemirror_mode": {
    "name": "ipython",
    "version": 3
   },
   "pygments_lexer": "ipython3",
   "nbconvert_exporter": "python",
   "file_extension": ".py"
  },
  "kernelspec": {
   "name": "python3",
   "display_name": "Python 3.8.8 64-bit ('base': conda)"
  },
  "interpreter": {
   "hash": "73e03da126b73bfff3642ec5261d56fa25c444ea595de51041687efaa60dda41"
  }
 },
 "nbformat": 4,
 "nbformat_minor": 2
}