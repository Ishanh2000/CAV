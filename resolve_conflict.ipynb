{
 "cells": [
  {
   "cell_type": "code",
   "execution_count": 1,
   "metadata": {},
   "outputs": [],
   "source": [
    "import numpy as np"
   ]
  },
  {
   "cell_type": "code",
   "execution_count": 2,
   "metadata": {},
   "outputs": [],
   "source": [
    "def constructCDG(PDG_list):\n",
    "    n = len(PDG_list)\n",
    "    CDG = np.zeros((n,n))\n",
    "    for PDG in PDG_list:\n",
    "        CDG = np.logical_or(CDG,PDG)\n",
    "    return CDG"
   ]
  },
  {
   "cell_type": "code",
   "execution_count": 3,
   "metadata": {},
   "outputs": [],
   "source": [
    "##we want individual graphs to be of this form\n",
    "\n",
    "##N X N graph where if (i,j) is 1 then i is yeilding to j\n",
    "\n"
   ]
  },
  {
   "cell_type": "code",
   "execution_count": 4,
   "metadata": {},
   "outputs": [
    {
     "data": {
      "text/plain": [
       "array([[ True, False, False],\n",
       "       [False, False,  True],\n",
       "       [False, False, False]])"
      ]
     },
     "execution_count": 4,
     "metadata": {},
     "output_type": "execute_result"
    }
   ],
   "source": [
    "##test case 1\n",
    "PDG_0 = np.array([[1,0,0],\n",
    "        [0,0,0],\n",
    "        [0,0,0]])\n",
    "\n",
    "PDG_1 = np.array([[1,0,0],\n",
    "        [0,0,1],\n",
    "        [0,0,0]])\n",
    "\n",
    "PDG_2 = np.array([[0,0,0],\n",
    "        [0,0,1],\n",
    "        [0,0,0]])\n",
    "\n",
    "PDG_list = [PDG_0,PDG_1,PDG_2]\n",
    "constructCDG(PDG_list)"
   ]
  },
  {
   "cell_type": "code",
   "execution_count": 5,
   "metadata": {},
   "outputs": [
    {
     "data": {
      "text/plain": [
       "array([[ True, False, False, False],\n",
       "       [False, False, False, False],\n",
       "       [False, False, False,  True],\n",
       "       [False, False, False, False]])"
      ]
     },
     "execution_count": 5,
     "metadata": {},
     "output_type": "execute_result"
    }
   ],
   "source": [
    "##test case 2\n",
    "PDG_0 = np.array([[1,0,0,0],\n",
    "        [0,0,0,0],\n",
    "        [0,0,0,0],\n",
    "        [0,0,0,0]])\n",
    "\n",
    "PDG_1 = np.array([[1,0,0,0],\n",
    "        [0,0,0,0],\n",
    "        [0,0,0,0],\n",
    "        [0,0,0,0]])\n",
    "\n",
    "PDG_2 = np.array([[0,0,0,0],\n",
    "        [0,0,0,0],\n",
    "        [0,0,0,1],\n",
    "        [0,0,0,0]])\n",
    "\n",
    "PDG_3 = np.array([[1,0,0,0],\n",
    "        [0,0,0,0],\n",
    "        [0,0,0,1],\n",
    "        [0,0,0,0]])\n",
    "\n",
    "PDG_list = [PDG_0,PDG_1,PDG_2, PDG_3]\n",
    "constructCDG(PDG_list)"
   ]
  },
  {
   "cell_type": "code",
   "execution_count": 6,
   "metadata": {},
   "outputs": [],
   "source": [
    "##test case 3\n",
    "PDG_0 = np.array([[1,0,0,0],\n",
    "        [0,0,0,0],\n",
    "        [0,0,0,0],\n",
    "        [0,0,0,0]])\n",
    "\n",
    "PDG_1 = np.array([[1,0,0,0],\n",
    "        [0,0,1,0],\n",
    "        [0,0,0,0],\n",
    "        [0,0,0,0]])\n",
    "\n",
    "PDG_2 = np.array([[0,0,0,0],\n",
    "        [0,0,1,0],\n",
    "        [0,0,0,1],\n",
    "        [0,0,0,0]])\n",
    "\n",
    "PDG_3 = np.array([[1,0,0,0],\n",
    "        [0,0,0,0],\n",
    "        [0,0,0,1],\n",
    "        [0,0,0,0]])\n",
    "\n",
    "PDG_list = [PDG_0,PDG_1,PDG_2, PDG_3]\n",
    "CDG = constructCDG(PDG_list)"
   ]
  },
  {
   "cell_type": "code",
   "execution_count": 7,
   "metadata": {},
   "outputs": [],
   "source": [
    "def DFS(CDG, visited, parent,start,n):\n",
    "    visited[start] = -1\n",
    "    cycle = []\n",
    "    flag =0\n",
    "    for i in range(n):\n",
    "        if(CDG[start][i]==True):\n",
    "            if(visited[i]==0):\n",
    "                parent[i] = start\n",
    "                cycle = DFS(CDG, visited, parent, i,n)\n",
    "                if(cycle!=[]):\n",
    "                    return cycle\n",
    "            elif(visited[i]==-1):#cycle detected\n",
    "                # print(\"entered here\")\n",
    "                # print(start)\n",
    "                # print(parent)\n",
    "                # print(i)\n",
    "                j = start\n",
    "                while(parent[j]!=i):\n",
    "                    cycle.append(j)\n",
    "                    j = parent[j]\n",
    "                cycle.append(j)\n",
    "                cycle.append(i)\n",
    "                return cycle     \n",
    "                # cycle = [1,4,6]\n",
    "                # return cycle     \n",
    "\n",
    "    # print(\"tf\")\n",
    "    visited[start] = 1\n",
    "    return cycle"
   ]
  },
  {
   "cell_type": "code",
   "execution_count": 8,
   "metadata": {},
   "outputs": [],
   "source": [
    "##finding cycles\n",
    "##function is expected to find exactly one cycle and return the nodes invovled in the cycle\n",
    "def findCycles(CDG):\n",
    "    n = CDG.shape[0]\n",
    "    visited = np.zeros(n)\n",
    "    parent = np.arange(n)\n",
    "    for start in range(n):\n",
    "        if(visited[start]==0):\n",
    "            cycle = DFS(CDG,visited,parent,start,n)\n",
    "            print(\"Cyle: \", cycle)\n",
    "            if(cycle != []):\n",
    "                return cycle\n",
    "    return []"
   ]
  },
  {
   "cell_type": "code",
   "execution_count": 9,
   "metadata": {},
   "outputs": [
    {
     "name": "stdout",
     "output_type": "stream",
     "text": [
      "[[False  True False False]\n",
      " [False False  True False]\n",
      " [False False False  True]\n",
      " [ True False False False]]\n",
      "Cyle:  [3, 2, 1, 0]\n",
      "[3, 2, 1, 0]\n"
     ]
    }
   ],
   "source": [
    "##test 1\n",
    "PDG_0 = np.array([[0,1,0,0],\n",
    "        [0,0,0,0],\n",
    "        [0,0,0,0],\n",
    "        [0,0,0,0]])\n",
    "\n",
    "PDG_1 = np.array([[0,1,0,0],\n",
    "        [0,0,1,0],\n",
    "        [0,0,0,0],\n",
    "        [1,0,0,0]])\n",
    "\n",
    "PDG_2 = np.array([[0,0,0,0],\n",
    "        [0,0,1,0],\n",
    "        [0,0,0,1],\n",
    "        [0,0,0,0]])\n",
    "\n",
    "PDG_3 = np.array([[0,0,0,0],\n",
    "        [0,0,0,0],\n",
    "        [0,0,0,1],\n",
    "        [1,0,0,0]])\n",
    "\n",
    "PDG_list = [PDG_0,PDG_1,PDG_2, PDG_3]\n",
    "CDG = constructCDG(PDG_list)\n",
    "print(CDG)\n",
    "print(findCycles(CDG))"
   ]
  },
  {
   "cell_type": "code",
   "execution_count": 10,
   "metadata": {},
   "outputs": [
    {
     "name": "stdout",
     "output_type": "stream",
     "text": [
      "[[False  True False False False False False]\n",
      " [False False  True False  True False False]\n",
      " [ True False False False False  True False]\n",
      " [False False False False False False False]\n",
      " [False False False False False False False]\n",
      " [False False False False False  True False]\n",
      " [False  True False False False False False]]\n",
      "Cyle:  [2, 1, 0]\n",
      "[2, 1, 0]\n"
     ]
    }
   ],
   "source": [
    "CDG = np.array([[False,True,False,False,False,False,False],\n",
    "                [False,False,True,False,True,False,False],\n",
    "                [True,False,False,False,False,True,False],\n",
    "                [False,False,False,False,False,False,False],\n",
    "                [False,False,False,False,False,False,False],\n",
    "                [False,False,False,False,False,True,False],\n",
    "                [False,True,False,False,False,False,False]])\n",
    "print(CDG)\n",
    "print(findCycles(CDG))"
   ]
  },
  {
   "cell_type": "code",
   "execution_count": 11,
   "metadata": {},
   "outputs": [
    {
     "name": "stdout",
     "output_type": "stream",
     "text": [
      "[[False  True False  True False False False]\n",
      " [False False  True False  True False False]\n",
      " [False False False False False  True False]\n",
      " [False False False False False False False]\n",
      " [False False False False False False False]\n",
      " [False False False False False False  True]\n",
      " [False  True False False False False False]]\n",
      "Cyle:  [6, 5, 2, 1]\n",
      "[6, 5, 2, 1]\n"
     ]
    }
   ],
   "source": [
    "CDG = np.array([[False,True,False,True,False,False,False],\n",
    "                [False,False,True,False,True,False,False],\n",
    "                [False,False,False,False,False,True,False],\n",
    "                [False,False,False,False,False,False,False],\n",
    "                [False,False,False,False,False,False,False],\n",
    "                [False,False,False,False,False,False,True],\n",
    "                [False,True,False,False,False,False,False]])\n",
    "print(CDG)\n",
    "print(findCycles(CDG))"
   ]
  },
  {
   "cell_type": "code",
   "execution_count": 12,
   "metadata": {},
   "outputs": [],
   "source": [
    "def resolveCycle(CDG, cycle, averagedTOA):\n",
    "    min_time  = averagedTOA[cycle[0]]\n",
    "    leader = cycle[0]\n",
    "    for vehicle in cycle:\n",
    "        if(averagedTOA[vehicle]<min_time):\n",
    "            min_time = averagedTOA[vehicle]\n",
    "            leader = vehicle\n",
    "    \n",
    "    n = CDG.shape[0]\n",
    "    for i in range(n):\n",
    "        if(CDG[i][leader]):\n",
    "            CDG[i][leader] = False\n",
    "            CDG[leader][i] = True\n",
    "    return CDG"
   ]
  },
  {
   "cell_type": "code",
   "execution_count": 13,
   "metadata": {},
   "outputs": [
    {
     "name": "stdout",
     "output_type": "stream",
     "text": [
      "Cyle:  [6, 5, 2, 1]\n",
      "[[False  True False  True False False False]\n",
      " [False False  True False  True False False]\n",
      " [False False False False False  True False]\n",
      " [False False False False False False False]\n",
      " [False False False False False False False]\n",
      " [False False False False False False  True]\n",
      " [False  True False False False False False]]\n",
      "[[False False False  True False False False]\n",
      " [ True False  True False  True False  True]\n",
      " [False False False False False  True False]\n",
      " [False False False False False False False]\n",
      " [False False False False False False False]\n",
      " [False False False False False False  True]\n",
      " [False False False False False False False]]\n"
     ]
    }
   ],
   "source": [
    "CDG = np.array([[False,True,False,True,False,False,False],\n",
    "                [False,False,True,False,True,False,False],\n",
    "                [False,False,False,False,False,True,False],\n",
    "                [False,False,False,False,False,False,False],\n",
    "                [False,False,False,False,False,False,False],\n",
    "                [False,False,False,False,False,False,True],\n",
    "                [False,True,False,False,False,False,False]])\n",
    "\n",
    "cycle = findCycles(CDG)\n",
    "\n",
    "averageTOA = [1,0,1,1,1,1,1]\n",
    "\n",
    "print(CDG)\n",
    "print(resolveCycle(CDG, cycle, averageTOA))"
   ]
  },
  {
   "cell_type": "code",
   "execution_count": 14,
   "metadata": {},
   "outputs": [],
   "source": [
    "def ResolveDeadlock(PDG_list, averaged_TOA):\n",
    "    CDG = constructCDG(PDG_list)\n",
    "    while(findCycles(CDG)!= []):\n",
    "        cycle = findCycles(CDG)\n",
    "        resolveCycle(CDG, cycle, averageTOA)\n",
    "\n",
    "    return CDG"
   ]
  }
 ],
 "metadata": {
  "interpreter": {
   "hash": "73e03da126b73bfff3642ec5261d56fa25c444ea595de51041687efaa60dda41"
  },
  "kernelspec": {
   "display_name": "Python 3.8.8 64-bit ('base': conda)",
   "name": "python3"
  },
  "language_info": {
   "codemirror_mode": {
    "name": "ipython",
    "version": 3
   },
   "file_extension": ".py",
   "mimetype": "text/x-python",
   "name": "python",
   "nbconvert_exporter": "python",
   "pygments_lexer": "ipython3",
   "version": "3.8.8"
  },
  "orig_nbformat": 4
 },
 "nbformat": 4,
 "nbformat_minor": 2
}
